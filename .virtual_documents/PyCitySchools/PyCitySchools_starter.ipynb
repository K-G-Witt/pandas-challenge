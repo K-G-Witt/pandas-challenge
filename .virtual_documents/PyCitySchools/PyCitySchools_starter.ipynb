











# Dependencies and Setup
from pathlib import Path
import pandas as pd

# File to Load (Remember to Change These)
school_data_to_load = Path("Resources/schools_complete.csv")
student_data_to_load = Path("Resources/students_complete.csv")

# Read School and Student Data File and store into Pandas DataFrames
school_data = pd.read_csv(school_data_to_load)
student_data = pd.read_csv(student_data_to_load)

# Combine the data into a single dataset.
school_data_complete = pd.merge(student_data, school_data, how="left", on=["school_name", "school_name"])
school_data_complete.head()





# Calculate the Totals (Schools and Students)
school_count = len(school_data_complete["school_name"].unique())
student_count = school_data_complete["student_name"].count()

# Calculate the Total Budget
total_budget = school_data_complete.groupby("school_name")["budget"].first().sum()


# Calculate the Average Scores
average_maths_score = school_data_complete["maths_score"].mean()
average_reading_score = school_data_complete["reading_score"].mean()


## Calculate the Percentage Pass Rates:
# Maths:
passing_maths_count = school_data_complete[(school_data_complete["maths_score"] >= 50)].count()["student_name"]
passing_maths_percentage = passing_maths_count / float(student_count) * 100

# Reading:
passing_reading_count = school_data_complete[(school_data_complete["reading_score"] >= 50)].count()["student_name"]
passing_reading_percentage = passing_reading_count / float(student_count) * 100

# Maths and reading:
passing_maths_reading_count = school_data_complete[(school_data_complete["maths_score"] >= 50)].count()["student_name"] & school_data_complete[(school_data_complete["reading_score"] >= 50)].count()["student_name"]
passing_maths_reading_percentage = passing_maths_reading_count / float(student_count) * 100

# Overall:
overall_passing_rate = school_data_complete[(school_data_complete["maths_score"] >= 50) & (school_data_complete["reading_score"] >= 50)]
students_passing_count = overall_passing_rate["student_name"].count()
overall_passing_percentage = (students_passing_count/ float(student_count)) * 100


# Convert to DataFrame
area_summary = pd.DataFrame({"Total Schools" : school_count,
                             "Total Students" : student_count,
                             "Total Budget" : total_budget,
                             "Average Maths Score" : average_maths_score,
                             "Average Reading Score" : average_reading_score,
                             "% Passing Maths" : passing_maths_percentage,
                             "% Passing Reading" : passing_reading_percentage,
                             "% Overall Passing" : overall_passing_percentage}, index=[0])

# Formatting
area_summary["Total Students"] = area_summary["Total Students"].map("{:,}".format)
area_summary["Total Budget"] = area_summary["Total Budget"].map("${:,.2f}".format)

# Display the DataFrame
area_summary






# Use the code provided to select the type per school from school_data
school_types = school_data.set_index(["school_name"])["type"]

# Calculate the total student count per school from school_data
grouped_schools = school_data_complete.groupby(["school_name"])
per_school_counts = grouped_schools["student_name"].count()


# Calculate the total school budget and per capita spending per school from school_data
per_school_budget = grouped_schools["budget"].first()


per_school_capita = per_school_budget / per_school_counts


# Calculate the average test scores per school from school_data_complete
per_school_maths = grouped_schools["maths_score"].mean()


per_school_reading = grouped_schools["reading_score"].mean()



# Get the students who passed maths and passed reading by creating separate filtered DataFrames from school_data_complete.
school_passing_maths = school_data_complete[school_data_complete["maths_score"] >=50]

school_passing_reading = school_data_complete[school_data_complete["reading_score"] >=50]

# Get the students who passed both reading and maths in a separate DataFrame from school_data_complete.
passing_maths_and_reading = school_data_complete[(school_data_complete["maths_score"] >=50) & (school_data_complete["reading_score"] >=50)]



#  Calculate the Percentage Pass Rates
per_school_passing_maths = school_passing_maths.groupby("school_name")
per_school_passing_maths_percent = (per_school_passing_maths["student_name"].count() / per_school_counts) * 100

per_school_passing_reading = school_passing_reading.groupby("school_name")
per_school_passing_reading_percent = (per_school_passing_reading["student_name"].count() / per_school_counts) * 100

overall_passing_rate = passing_maths_and_reading.groupby("school_name")
per_school_passing_overall_percent = (overall_passing_rate["student_name"].count() / per_school_counts) * 100


# Convert to DataFrame
per_school_summary = pd.DataFrame({"School Type": school_types,
                                   "Total Students": per_school_counts,
                                   "Total School Budget": per_school_budget,
                                   "Per Student Budget": per_school_capita,
                                   "Average Math Score": per_school_maths,
                                   "Average Reading Score": per_school_reading,
                                   '% Passing Math': per_school_passing_maths_percent,
                                   '% Passing Reading': per_school_passing_reading_percent,
                                   "% Overall Passing": per_school_passing_overall_percent})

# Create a list
per_school_summary = per_school_summary[['School Type', 
                          'Total Students', 
                          'Total School Budget', 
                          'Per Student Budget', 
                          'Average Math Score', 
                          'Average Reading Score',
                          '% Passing Math',
                          '% Passing Reading',
                          '% Overall Passing']]

# Formatting
per_school_summary["Total School Budget"] = per_school_summary["Total School Budget"].map("${:,.2f}".format)
per_school_summary["Per Student Budget"] = per_school_summary["Per Student Budget"].map("${:,.2f}".format)

# Display the DataFrame
per_school_summary






# Sort and show top five schools
top_schools = per_school_summary.sort_values("% Overall Passing", ascending=False)
top_schools.head(5)






# Sort and show bottom five schools
bottom_schools = per_school_summary.sort_values("% Overall Passing", ascending=True)
bottom_schools.head(5)






# Create data series of scores by year levels using conditionals
year_nine = school_data_complete[(school_data_complete["year"] == 9)]
year_ten = school_data_complete[(school_data_complete["year"] == 10)]
year_eleven = school_data_complete[(school_data_complete["year"] == 11)]
year_twelve = school_data_complete[(school_data_complete["year"] == 12)]

# Group each by school name
year_nine_scores = year_nine.groupby(["school_name"])["maths_score"].mean()
year_ten_scores = year_ten.groupby(["school_name"])["maths_score"].mean()
year_eleven_scores = year_eleven.groupby(["school_name"])["maths_score"].mean()
year_twelve_scores = year_twelve.groupby(["school_name"])["maths_score"].mean()

# Combine series into single DataFrame
maths_scores_by_year = pd.DataFrame({"Year 9" : year_nine_scores,
                                     "Year 10" : year_ten_scores,
                                     "Year 11" : year_eleven_scores,
                                     "Year 12" : year_twelve_scores})

# Minor data wrangling
maths_scores_by_year.index.name = None

# Display the DataFrame
maths_scores_by_year






# Create data series of scores by year levels using conditionals
year_nine = school_data_complete[(school_data_complete["year"] == 9)]
year_ten = school_data_complete[(school_data_complete["year"] == 10)]
year_eleven = school_data_complete[(school_data_complete["year"] == 11)]
year_twelve = school_data_complete[(school_data_complete["year"] == 12)]

# Group each by school name
year_nine_scores = year_nine.groupby(["school_name"])["reading_score"].mean()
year_ten_scores = year_ten.groupby(["school_name"])["reading_score"].mean()
year_eleven_scores = year_eleven.groupby(["school_name"])["reading_score"].mean()
year_twelve_scores = year_twelve.groupby(["school_name"])["reading_score"].mean()

# Combine series into single DataFrame
reading_scores_by_year = pd.DataFrame({"Year 9" : year_nine_scores,
                                     "Year 10" : year_ten_scores,
                                     "Year 11" : year_eleven_scores,
                                     "Year 12" : year_twelve_scores})

# Minor data wrangling
reading_scores_by_year.index.name = None

# Display the DataFrame
reading_scores_by_year






# Establish the bins
spending_bins = [0, 585, 630, 645, 680]
group_names = ["<$585", "$585-630", "$630-645", "$645-680"]



# Create a copy of the school summary since it has the "Per Student Budget"
#  This step can be skipped but its best to make a copy.
school_spending_df = per_school_summary



# Categorise spending based on the bins.
school_spending_df["Per Student Budget"] = school_spending_df["Per Student Budget"].str.replace("$", "").str.replace(",", "").astype(float)
school_spending_df["Spending Ranges (Per Student)"] = pd.cut(school_spending_df["Per Student Budget"], spending_bins, labels = group_names)
school_spending_df["Per Student Budget"] = school_spending_df["Per Student Budget"].map("${:,.2f}".format)
school_spending_df



#  Calculate averages for the desired columns.
spending_maths_scores = school_spending_df.groupby(["Spending Ranges (Per Student)"])["Average Math Score"].mean()
spending_reading_scores = school_spending_df.groupby(["Spending Ranges (Per Student)"])["Average Reading Score"].mean()
spending_passing_maths = school_spending_df.groupby(["Spending Ranges (Per Student)"])["% Passing Math"].mean()
spending_passing_reading = school_spending_df.groupby(["Spending Ranges (Per Student)"])["% Passing Reading"].mean()
overall_passing_spending = school_spending_df.groupby(["Spending Ranges (Per Student)"])["% Overall Passing"].mean()



# Assemble into DataFrame
spending_summary = pd.DataFrame({"Average Maths Score" : spending_maths_scores,
                                 "Average Reading Score" : spending_reading_scores,
                                 "% Passing Maths" : spending_passing_maths,
                                 "% Passing Reading" : spending_passing_reading,
                                 "% Overall Passing" : overall_passing_spending})

# Apply formatting to display only 2 decimal places
spending_summary["Average Maths Score"] = spending_summary["Average Maths Score"].map("{:.2f}".format)
spending_summary["Average Reading Score"] = spending_summary["Average Reading Score"].map("{:.2f}".format)
spending_summary["% Passing Maths"] = spending_summary["% Passing Maths"].map("{:.2f}".format)
spending_summary["% Passing Reading"] = spending_summary["% Passing Reading"].map("{:.2f}".format)
spending_summary["% Overall Passing"] = spending_summary["% Overall Passing"].map("{:.2f}".format)

# Display results
spending_summary






# Establish the bins.
size_bins = [0, 1000, 2000, 5000]
group_names = ["Small (<1000)", "Medium (1000-2000)", "Large (2000-5000)"]



# Categorize the spending based on the bins
per_school_summary["School Size"] = pd.cut(per_school_summary["Total Students"], size_bins, labels = group_names)
per_school_summary



# Calculate averages for the desired columns.
size_maths_scores = per_school_summary.groupby(["School Size"])["Average Math Score"].mean()
size_reading_scores = per_school_summary.groupby(["School Size"])["Average Reading Score"].mean()
size_passing_maths = per_school_summary.groupby(["School Size"])["% Passing Math"].mean()
size_passing_reading = per_school_summary.groupby(["School Size"])["% Passing Reading"].mean()
size_overall_passing = per_school_summary.groupby(["School Size"])["% Overall Passing"].mean()



# Assemble into DataFrame
size_summary = pd.DataFrame({"Average Maths Score" : size_maths_scores,
                             "Average Reading Score" : size_reading_scores,
                             "% Passing Maths" : size_passing_maths,
                             "% Passing Reading" : size_passing_reading,
                             "% Overall Passing" : size_overall_passing})

# Display results
size_summary






# Create new series using groupby for:
# Type | Average Maths Score | Average Reading Score | % Passing Maths | % Passing Reading | % Overall Passing

type_maths_scores = per_school_summary.groupby(["School Type"])["Average Math Score"].mean()
type_reading_scores = per_school_summary.groupby(["School Type"])["Average Reading Score"].mean()
type_passing_maths = per_school_summary.groupby(["School Type"])["% Passing Math"].mean()
type_passing_reading = per_school_summary.groupby(["School Type"])["% Passing Reading"].mean()
type_overall_passing = per_school_summary.groupby(["School Type"])["% Overall Passing"].mean()



# Assemble into DataFrame
type_summary = pd.DataFrame({"Average Maths Score" : type_maths_scores,
                             "Average Reading Score" : type_reading_scores,
                             "% Passing Maths" : type_passing_maths,
                             "% Passing Reading" : type_passing_reading,
                             "% Overall Passing" : type_overall_passing})

# Display results
type_summary




